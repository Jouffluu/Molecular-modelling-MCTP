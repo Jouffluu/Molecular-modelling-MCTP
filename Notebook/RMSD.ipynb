{
 "cells": [
  {
   "cell_type": "markdown",
   "id": "491739ec",
   "metadata": {},
   "source": [
    "# <center> RMSD <center>"
   ]
  },
  {
   "cell_type": "markdown",
   "id": "84e1c375",
   "metadata": {},
   "source": [
    "# Contents\n",
    "\n",
    "This notebook is designed to compute the Root Mean Square Deviation (RMSD) between models predicted by new prediction methods. It includes code to set the working directory, load protein structure files, compute RMSD values, and visualize the results."
   ]
  },
  {
   "cell_type": "markdown",
   "id": "19a1935d",
   "metadata": {},
   "source": [
    "# Usage\n",
    "\n",
    "- Set Path: Adjust the path to the directory containing your protein structure files.\n",
    "- Load Models: Define the list of models to be compared and load them into memory.\n",
    "- Compute RMSD: Utilize the defined functions to calculate RMSD values between selected models.\n",
    "- Visualize Results: Plot the RMSD values to compare the similarities and differences between models."
   ]
  },
  {
   "cell_type": "markdown",
   "id": "bc3f561e",
   "metadata": {},
   "source": [
    "# Path Configuration\n",
    "\n",
    "Set the working directory to the location containing your protein structure files. These paths should be adapted based on the Zenodo archive where the data is stored: \"/Data/Models/Monomers\""
   ]
  },
  {
   "cell_type": "code",
   "execution_count": 1,
   "id": "1c359639",
   "metadata": {},
   "outputs": [],
   "source": [
    "import os"
   ]
  },
  {
   "cell_type": "code",
   "execution_count": 2,
   "id": "437a81bd",
   "metadata": {},
   "outputs": [],
   "source": [
    "path = \"/Data/Models/Monomers\"\n",
    "os.chdir(path)\n"
   ]
  },
  {
   "cell_type": "markdown",
   "id": "67f8c1cb",
   "metadata": {},
   "source": [
    "L'ensemble du modèle"
   ]
  },
  {
   "cell_type": "code",
   "execution_count": 3,
   "id": "3e08dd20",
   "metadata": {},
   "outputs": [
    {
     "name": "stderr",
     "output_type": "stream",
     "text": [
      "C:\\Users\\sujit\\anaconda3\\Lib\\site-packages\\MDAnalysis\\topology\\TPRParser.py:161: DeprecationWarning: 'xdrlib' is deprecated and slated for removal in Python 3.13\n",
      "  import xdrlib\n"
     ]
    }
   ],
   "source": [
    "import MDAnalysis as mda\n",
    "from MDAnalysis import analysis\n",
    "from MDAnalysis.analysis import align\n",
    "import numpy as np\n",
    "# Charger les deux protéines en tant que deux objets universe\n",
    "def rmsd(pdb1,pdb2):\n",
    "    u1 = mda.Universe(pdb1)\n",
    "    u2 = mda.Universe(pdb2)\n",
    "\n",
    "# Sélectionner les atomes de squelette des deux protéines\n",
    "    ca1 = u1.select_atoms(\"name CA\")\n",
    "    ca2 = u2.select_atoms(\"name CA\")\n",
    "\n",
    "# Aligner les protéines sur les atomes de squelette\n",
    "    R, rmsd = mda.analysis.align.rotation_matrix(ca1.positions, ca2.positions)\n",
    "\n",
    "# Transformer les positions des atomes de squelette de la seconde protéine pour aligner les protéines\n",
    "    ca2.positions = np.dot(ca2.positions, R)\n",
    "\n",
    "# Calculer le RMSD final\n",
    "    rmsd = mda.analysis.rms.rmsd(ca1.positions, ca2.positions, center=True, superposition=True)\n",
    "\n",
    "# Afficher le RMSD\n",
    "    print(\"Le RMSD est de:\", rmsd)\n"
   ]
  },
  {
   "cell_type": "code",
   "execution_count": 4,
   "id": "a730a5fb",
   "metadata": {},
   "outputs": [],
   "source": [
    "models = [\"ESM.pdb\",\"RF.pdb\",\"AF.pdb\",\"TR.pdb\",\"AFM.pdb\",\"OF.pdb\"]"
   ]
  },
  {
   "cell_type": "code",
   "execution_count": 5,
   "id": "8160b75b",
   "metadata": {},
   "outputs": [
    {
     "name": "stdout",
     "output_type": "stream",
     "text": [
      "les models sont:  ESM.pdb ESM.pdb\n",
      "Le RMSD est de: 1.3417290842297726e-06\n",
      "\n",
      "\n",
      "les models sont:  ESM.pdb RF.pdb\n"
     ]
    },
    {
     "name": "stderr",
     "output_type": "stream",
     "text": [
      "C:\\Users\\sujit\\anaconda3\\Lib\\site-packages\\MDAnalysis\\topology\\PDBParser.py:348: UserWarning: Unknown element  found for some atoms. These have been given an empty element record. If needed they can be guessed using MDAnalysis.topology.guessers.\n",
      "  warnings.warn(wmsg)\n",
      "C:\\Users\\sujit\\anaconda3\\Lib\\site-packages\\MDAnalysis\\topology\\guessers.py:146: UserWarning: Failed to guess the mass for the following atom types: \n",
      "  warnings.warn(\"Failed to guess the mass for the following atom types: {}\".format(atom_type))\n",
      "C:\\Users\\sujit\\anaconda3\\Lib\\site-packages\\MDAnalysis\\coordinates\\PDB.py:451: UserWarning: 1 A^3 CRYST1 record, this is usually a placeholder. Unit cell dimensions will be set to None.\n",
      "  warnings.warn(\"1 A^3 CRYST1 record,\"\n"
     ]
    },
    {
     "name": "stdout",
     "output_type": "stream",
     "text": [
      "Le RMSD est de: 19.289924863532907\n",
      "\n",
      "\n",
      "les models sont:  ESM.pdb AF.pdb\n",
      "Le RMSD est de: 16.11384288472484\n",
      "\n",
      "\n",
      "les models sont:  ESM.pdb TR.pdb\n",
      "Le RMSD est de: 13.352054374112658\n",
      "\n",
      "\n",
      "les models sont:  ESM.pdb AFM.pdb\n",
      "Le RMSD est de: 15.133888434453887\n",
      "\n",
      "\n",
      "les models sont:  ESM.pdb OF.pdb\n",
      "Le RMSD est de: 31.335296403421005\n",
      "\n",
      "\n",
      "les models sont:  RF.pdb ESM.pdb\n",
      "Le RMSD est de: 19.28992484399692\n",
      "\n",
      "\n",
      "les models sont:  RF.pdb RF.pdb\n",
      "Le RMSD est de: 1.0955172098048981e-06\n",
      "\n",
      "\n",
      "les models sont:  RF.pdb AF.pdb\n",
      "Le RMSD est de: 18.04762419329521\n",
      "\n",
      "\n",
      "les models sont:  RF.pdb TR.pdb\n",
      "Le RMSD est de: 17.165831170431737\n",
      "\n",
      "\n",
      "les models sont:  RF.pdb AFM.pdb\n",
      "Le RMSD est de: 16.588451389417134\n",
      "\n",
      "\n",
      "les models sont:  RF.pdb OF.pdb\n",
      "Le RMSD est de: 27.000825912104563\n",
      "\n",
      "\n",
      "les models sont:  AF.pdb ESM.pdb\n",
      "Le RMSD est de: 16.11384288599634\n",
      "\n",
      "\n",
      "les models sont:  AF.pdb RF.pdb\n",
      "Le RMSD est de: 18.047624252144445\n",
      "\n",
      "\n",
      "les models sont:  AF.pdb AF.pdb\n",
      "Le RMSD est de: 1.7321647994480125e-06\n",
      "\n",
      "\n",
      "les models sont:  AF.pdb TR.pdb\n",
      "Le RMSD est de: 8.755372946635147\n",
      "\n",
      "\n",
      "les models sont:  AF.pdb AFM.pdb\n",
      "Le RMSD est de: 8.036896217613588\n",
      "\n",
      "\n",
      "les models sont:  AF.pdb OF.pdb\n",
      "Le RMSD est de: 26.409158838552813\n",
      "\n",
      "\n",
      "les models sont:  TR.pdb ESM.pdb\n",
      "Le RMSD est de: 13.352054371764474\n",
      "\n",
      "\n",
      "les models sont:  TR.pdb RF.pdb\n",
      "Le RMSD est de: 17.165831138456245\n",
      "\n",
      "\n",
      "les models sont:  TR.pdb AF.pdb\n",
      "Le RMSD est de: 8.75537293164973\n",
      "\n",
      "\n",
      "les models sont:  TR.pdb TR.pdb\n",
      "Le RMSD est de: 1.6432758147073474e-06\n",
      "\n",
      "\n",
      "les models sont:  TR.pdb AFM.pdb\n",
      "Le RMSD est de: 4.4336048293559776\n",
      "\n",
      "\n",
      "les models sont:  TR.pdb OF.pdb\n",
      "Le RMSD est de: 27.37158996664306\n",
      "\n",
      "\n",
      "les models sont:  AFM.pdb ESM.pdb\n",
      "Le RMSD est de: 15.13388838038604\n",
      "\n",
      "\n",
      "les models sont:  AFM.pdb RF.pdb\n",
      "Le RMSD est de: 16.588451330835703\n",
      "\n",
      "\n",
      "les models sont:  AFM.pdb AF.pdb\n",
      "Le RMSD est de: 8.036896212395067\n",
      "\n",
      "\n",
      "les models sont:  AFM.pdb TR.pdb\n",
      "Le RMSD est de: 4.433604909154375\n",
      "\n",
      "\n",
      "les models sont:  AFM.pdb AFM.pdb\n",
      "Le RMSD est de: 1.0955172098048981e-06\n",
      "\n",
      "\n",
      "les models sont:  AFM.pdb OF.pdb\n",
      "Le RMSD est de: 27.00610178051491\n",
      "\n",
      "\n",
      "les models sont:  OF.pdb ESM.pdb\n",
      "Le RMSD est de: 31.335296416886482\n",
      "\n",
      "\n",
      "les models sont:  OF.pdb RF.pdb\n",
      "Le RMSD est de: 27.00082586250524\n",
      "\n",
      "\n",
      "les models sont:  OF.pdb AF.pdb\n",
      "Le RMSD est de: 26.409158847653387\n",
      "\n",
      "\n",
      "les models sont:  OF.pdb TR.pdb\n",
      "Le RMSD est de: 27.37158999374942\n",
      "\n",
      "\n",
      "les models sont:  OF.pdb AFM.pdb\n",
      "Le RMSD est de: 27.00610177287993\n",
      "\n",
      "\n",
      "les models sont:  OF.pdb OF.pdb\n",
      "Le RMSD est de: 1.5492952959192185e-06\n",
      "\n",
      "\n"
     ]
    }
   ],
   "source": [
    "for model in models:\n",
    "    for j in models:\n",
    "        print(\"les models sont: \",model,j)\n",
    "        rmsd(model,j)\n",
    "        print(\"\\n\")\n",
    "        \n",
    "        "
   ]
  },
  {
   "cell_type": "markdown",
   "id": "29b19e63",
   "metadata": {},
   "source": [
    "Calcul du rmsd uniquement sur la partie 550 à 774"
   ]
  },
  {
   "cell_type": "code",
   "execution_count": null,
   "id": "a625caec",
   "metadata": {},
   "outputs": [],
   "source": [
    "path = \"/ibpc/lumo/sritharan/These/Models/MCTP4/C2-domains/PDB-C2\"\n",
    "os.chdir(path)\n"
   ]
  },
  {
   "cell_type": "code",
   "execution_count": null,
   "id": "18a3eef1",
   "metadata": {},
   "outputs": [],
   "source": [
    "import MDAnalysis as mda\n",
    "from MDAnalysis import analysis\n",
    "from MDAnalysis.analysis import align\n",
    "import numpy as np\n",
    "\n",
    "def rmsd(pdb1,pdb2):\n",
    "    u1 = mda.Universe(pdb1)\n",
    "    u2 = mda.Universe(pdb2)\n",
    "\n",
    "    # Sélectionner les résidus 550 à 776\n",
    "\n",
    "    residues1 = u1.residues[550:776]\n",
    "    residues2 = u2.residues[550:776]\n",
    "    \n",
    "    \n",
    "# Sélectionner les atomes de squelette des deux protéines\n",
    "    ca1 = residues1.atoms.select_atoms(\"name CA\")\n",
    "    ca2 = residues2.atoms.select_atoms(\"name CA\")\n",
    "\n",
    "# Aligner les protéines sur les atomes de squelette\n",
    "    R, rmsd = mda.analysis.align.rotation_matrix(ca1.positions, ca2.positions)\n",
    "\n",
    "# Transformer les positions des atomes de squelette de la seconde protéine pour aligner les protéines\n",
    "    ca2.positions = np.dot(ca2.positions, R)\n",
    "\n",
    "# Calculer le RMSD final\n",
    "    rmsd = mda.analysis.rms.rmsd(ca1.positions, ca2.positions, center=True, superposition=True)\n",
    "\n",
    "# Afficher le RMSD\n",
    "    return rmsd\n"
   ]
  },
  {
   "cell_type": "code",
   "execution_count": null,
   "id": "1edd4f4b",
   "metadata": {},
   "outputs": [],
   "source": [
    "# Ouvrir un fichier en mode écriture\n",
    "with open('RMSD-resultats.txt', 'w') as fichier:\n",
    "    for model in models:\n",
    "        for j in models:\n",
    "            fichier.write(\"Les modèles sont  {}, {}: {}\\n\".format(model, j, rmsd(model, j)))\n",
    "            fichier.write(\"\\n\")\n",
    "        "
   ]
  },
  {
   "cell_type": "code",
   "execution_count": null,
   "id": "6ca3bf1b",
   "metadata": {},
   "outputs": [],
   "source": []
  }
 ],
 "metadata": {
  "kernelspec": {
   "display_name": "Python 3 (ipykernel)",
   "language": "python",
   "name": "python3"
  },
  "language_info": {
   "codemirror_mode": {
    "name": "ipython",
    "version": 3
   },
   "file_extension": ".py",
   "mimetype": "text/x-python",
   "name": "python",
   "nbconvert_exporter": "python",
   "pygments_lexer": "ipython3",
   "version": "3.10.4"
  }
 },
 "nbformat": 4,
 "nbformat_minor": 5
}
