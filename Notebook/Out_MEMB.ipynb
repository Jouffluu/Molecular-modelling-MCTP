{
 "cells": [
  {
   "cell_type": "code",
   "execution_count": 1,
   "id": "7bac404b",
   "metadata": {},
   "outputs": [
    {
     "name": "stderr",
     "output_type": "stream",
     "text": [
      "/ibpc/lumo/sritharan/.conda/envs/mdanalysis/lib/python3.9/site-packages/tqdm/auto.py:22: TqdmWarning: IProgress not found. Please update jupyter and ipywidgets. See https://ipywidgets.readthedocs.io/en/stable/user_install.html\n",
      "  from .autonotebook import tqdm as notebook_tqdm\n"
     ]
    }
   ],
   "source": [
    "import mdtraj as md\n",
    "import MDAnalysis as mda\n",
    "import os \n",
    "import matplotlib.pyplot as plt\n",
    "import numpy as np\n",
    "import pandas as pd\n",
    "import seaborn as sns"
   ]
  },
  {
   "cell_type": "markdown",
   "id": "a7903798",
   "metadata": {},
   "source": [
    "# Preparer l'environnement"
   ]
  },
  {
   "cell_type": "code",
   "execution_count": 54,
   "id": "4f82e6ce",
   "metadata": {},
   "outputs": [],
   "source": [
    "path_md = \"/data/sritharan/Paris/Other_Project/Hanene/Water_Protein/AF/md/gromacs/\"\n",
    "name =\"AF-Hanene\" \n",
    "os.chdir(path_md)"
   ]
  },
  {
   "cell_type": "code",
   "execution_count": 29,
   "id": "56fd842c",
   "metadata": {},
   "outputs": [
    {
     "data": {
      "text/plain": [
       "['M2']"
      ]
     },
     "execution_count": 29,
     "metadata": {},
     "output_type": "execute_result"
    }
   ],
   "source": [
    "all_md = [\"M2\"]\n",
    "all_md\n"
   ]
  },
  {
   "cell_type": "markdown",
   "id": "796dd1a5",
   "metadata": {},
   "source": [
    "# Les fonctions utilisé dans ce notebook\n",
    "1) Inversion des coordonées des atomes sur l'axe Z (-1) pour le md.gro\n",
    "2) Inversion des coordonées des atomes sur l'axe Z (-1) pour le traj.xtc\n",
    "3) Recuperer les coordonnées sur l'axe Z pour les atom BB\n",
    "4) Recuperer les coordonnées sur l'axe Z pour les atom PO4\n"
   ]
  },
  {
   "cell_type": "code",
   "execution_count": 13,
   "id": "549241a9",
   "metadata": {},
   "outputs": [],
   "source": [
    "def InverseZ_gro():\n",
    "# Load the GRO file into memory using mdtraj\n",
    "    traj = md.load(\"md.gro\")\n",
    "# Specify the axis along which to invert the coordinates (x=0, y=1, z=2)\n",
    "    axis = 2\n",
    "# Modify the coordinates along the specified axis\n",
    "    traj.xyz[:,:,axis] *= -1\n",
    "# Save the modified GRO file\n",
    "    traj.save(\"inverted_file.gro\")"
   ]
  },
  {
   "cell_type": "code",
   "execution_count": 14,
   "id": "9952609c",
   "metadata": {},
   "outputs": [],
   "source": [
    "\n",
    "def InverseZ_xtc():\n",
    "    traj = md.load(\"md_OK_100.xtc\", top=\"inverted_file.gro\")\n",
    "# Specify the axis along which to invert the coordinates (x=0, y=1, z=2)\n",
    "    axis = 2\n",
    "# Invert the coordinates along the specified axis\n",
    "    traj.xyz[:, :, axis] *= -1\n",
    "# Save the modified trajectory\n",
    "    traj.save(\"inverted_trajectory.xtc\")"
   ]
  },
  {
   "cell_type": "code",
   "execution_count": 15,
   "id": "17666403",
   "metadata": {},
   "outputs": [],
   "source": [
    "def find_BB(lines):\n",
    "    REF_ATOM = \"BB\"\n",
    "    atoms_indexes=[]\n",
    "    z_values=[]\n",
    "    for line in lines:\n",
    "        if REF_ATOM in line:\n",
    "            temp=line.split()\n",
    "            atoms_indexes.append(int(temp[2]))\n",
    "            z_values.append(float(temp[5]))\n",
    "        else:\n",
    "            pass\n",
    "    data=pd.DataFrame(data=atoms_indexes,columns=[\"atoms_indexes\"])\n",
    "    data[\"z(nm)\"]=z_values\n",
    "    mean_z=np.mean(z_values)\n",
    "    max_z = np.max(z_values)\n",
    "    min_z = np.min(z_values)\n",
    "   \n",
    "    return data,mean_z,max_z,min_z"
   ]
  },
  {
   "cell_type": "code",
   "execution_count": 16,
   "id": "7e6a0ae8",
   "metadata": {},
   "outputs": [],
   "source": [
    "def find_phosphate(lines):\n",
    "    REF_ATOM = \"PO4\"\n",
    "    atoms_indexes=[]\n",
    "    z_values=[]\n",
    "    for line in lines:\n",
    "        if REF_ATOM in line:\n",
    "            temp=line.split()\n",
    "            atoms_indexes.append(int(temp[2]))\n",
    "            z_values.append(float(temp[5]))\n",
    "        else:\n",
    "            pass\n",
    "    data=pd.DataFrame(data=atoms_indexes,columns=[\"atoms_indexes\"])\n",
    "    data[\"z(nm)\"]=z_values\n",
    "    mean_z=np.mean(z_values)\n",
    "    max_z = np.max(z_values)\n",
    "    min_z = np.min(z_values)\n",
    "    data[\"layer\"]=[\"upper\" if z > mean_z else \"lower\" for z in z_values]\n",
    "   \n",
    "    return data,mean_z,max_z,min_z"
   ]
  },
  {
   "cell_type": "markdown",
   "id": "ab9afa04",
   "metadata": {},
   "source": [
    "### un code pour determiner la moyenne sur l'axe"
   ]
  },
  {
   "cell_type": "code",
   "execution_count": 17,
   "id": "73bb0b6f",
   "metadata": {},
   "outputs": [],
   "source": [
    "# Trouver les numero des BB\n",
    "def recupere_atomBB(gro,debut,fin):\n",
    "    file = open(gro)\n",
    "    residue = []\n",
    "    lines = file.readlines()\n",
    "    file.close()\n",
    "    for ligne in lines:\n",
    "        col = ligne.split()\n",
    "        if ligne.startswith(\"GRO\"):\n",
    "            continue\n",
    "        else:\n",
    "            try:\n",
    "                if int(col[0][:3]) in range(debut, fin+1) and col[1] == \"BB\":\n",
    "                    residue.append(col[2])\n",
    "            except ValueError:\n",
    "                continue\n",
    "    for element in residue:\n",
    "        print(element,end=\" \")"
   ]
  },
  {
   "cell_type": "code",
   "execution_count": 26,
   "id": "76afddc4",
   "metadata": {},
   "outputs": [],
   "source": [
    "# on rentre dans le dossier de simulations\n",
    "all_md = os.listdir(path_md)\n"
   ]
  },
  {
   "cell_type": "markdown",
   "id": "361494fc",
   "metadata": {},
   "source": [
    "# 1)"
   ]
  },
  {
   "cell_type": "code",
   "execution_count": 31,
   "id": "d221cd80",
   "metadata": {},
   "outputs": [
    {
     "name": "stdout",
     "output_type": "stream",
     "text": [
      "M2\n"
     ]
    }
   ],
   "source": [
    "for md in all_md:\n",
    "    os.chdir(path_md)\n",
    "    print(md)\n",
    "    import mdtraj as md\n",
    "    InverseZ_gro()\n",
    "    InverseZ_xtc()"
   ]
  },
  {
   "cell_type": "code",
   "execution_count": null,
   "id": "0c92e2f4",
   "metadata": {},
   "outputs": [],
   "source": []
  },
  {
   "cell_type": "code",
   "execution_count": 190,
   "id": "f5543d36",
   "metadata": {},
   "outputs": [],
   "source": [
    "# Premier graphique pour verifié si l'inversion a bien fonctionné"
   ]
  },
  {
   "cell_type": "code",
   "execution_count": 32,
   "id": "0b4f0897",
   "metadata": {},
   "outputs": [],
   "source": [
    "os.chdir(path_md)"
   ]
  },
  {
   "cell_type": "code",
   "execution_count": 33,
   "id": "93075da3",
   "metadata": {},
   "outputs": [],
   "source": [
    "file = open(\"inverted_file.gro\")\n",
    "#file = open(\"md.gro\")\n",
    "lines = file.readlines()\n",
    "file.close()"
   ]
  },
  {
   "cell_type": "code",
   "execution_count": 34,
   "id": "a4e7ca95",
   "metadata": {},
   "outputs": [],
   "source": [
    "phosphate_data,mean_z,max_z,min_z=find_phosphate(lines=lines)\n",
    "BB_data,BB_mean_z,BB_max_z,BB_min_z=find_BB(lines=lines)"
   ]
  },
  {
   "cell_type": "code",
   "execution_count": 35,
   "id": "ff300745",
   "metadata": {},
   "outputs": [
    {
     "data": {
      "text/plain": [
       "<Axes: xlabel='atoms_indexes', ylabel='z(nm)'>"
      ]
     },
     "execution_count": 35,
     "metadata": {},
     "output_type": "execute_result"
    },
    {
     "data": {
      "image/png": "[encoded data removed]",
      "text/plain": [
       "<Figure size 640x480 with 1 Axes>"
      ]
     },
     "metadata": {},
     "output_type": "display_data"
    }
   ],
   "source": [
    "graph = sns.scatterplot(data=phosphate_data,x='atoms_indexes',y='z(nm)',hue='layer')\n",
    "graph.axhline(max_z)\n",
    "sns.scatterplot(data=BB_data,x='atoms_indexes',y='z(nm)')"
   ]
  },
  {
   "cell_type": "markdown",
   "id": "ff1671d1",
   "metadata": {},
   "source": [
    "# Avec gromacs \n",
    "1) Preparer les index de TM1 avec les BB des residues 600-635\n",
    "2) Preparer les index de TM2 avec les BB des residues 715-750\n"
   ]
  },
  {
   "cell_type": "code",
   "execution_count": 38,
   "id": "0be197c0",
   "metadata": {},
   "outputs": [],
   "source": [
    "os.chdir(path_md)\n",
    "#all_md = os.listdir()\n",
    "all_md = [\"M2\"]\n"
   ]
  },
  {
   "cell_type": "code",
   "execution_count": 43,
   "id": "f1de1544",
   "metadata": {},
   "outputs": [],
   "source": [
    "# creation d'un dossier out_graph\n",
    "for md in all_md:\n",
    "    os.chdir(path_md+md)\n",
    "    os.makedirs(\"out_graph2\",exist_ok=True)\n",
    "    os.system(\"cp inverted_file.gro \"+ path_md + md + \"/out_graph2\")\n",
    "    os.system(\"cp inverted_trajectory.xtc \"+ path_md + md + \"/out_graph2\")\n",
    "    os.system(\"cp md.tpr \"+ path_md + md + \"/out_graph2\")\n"
   ]
  },
  {
   "cell_type": "code",
   "execution_count": null,
   "id": "1967c814",
   "metadata": {},
   "outputs": [],
   "source": []
  },
  {
   "cell_type": "code",
   "execution_count": 199,
   "id": "130e1bcc",
   "metadata": {},
   "outputs": [
    {
     "data": {
      "text/plain": [
       "['E1']"
      ]
     },
     "execution_count": 199,
     "metadata": {},
     "output_type": "execute_result"
    }
   ],
   "source": [
    "os.chdir(path_md)\n",
    "all_md = os.listdir()\n",
    "all_md"
   ]
  },
  {
   "cell_type": "code",
   "execution_count": 45,
   "id": "cabb669d",
   "metadata": {},
   "outputs": [
    {
     "name": "stdout",
     "output_type": "stream",
     "text": [
      "/data/sritharan/Paris/Other_Project/Hanene/Water_Protein/AF/md/gromacs/M2/out_graph2\n",
      "Going to read 0 old index file(s)\n",
      "Analysing residue names:\n",
      "There are:   227    Protein residues\n",
      "There are: 10950      Other residues\n",
      "There are:   333        Ion residues\n",
      "Analysing Protein...\n",
      "Analysing residues not classified as Protein/DNA/RNA/Water and splitting into groups...\n",
      "Analysing residues not classified as Protein/DNA/RNA/Water and splitting into groups...\n",
      "\n",
      "  0 System              : 21603 atoms\n",
      "  1 Protein             :   568 atoms\n",
      "  2 Protein-H           :   568 atoms\n",
      "  3 C-alpha             :     0 atoms\n",
      "  4 Backbone            :     0 atoms\n",
      "  5 MainChain           :     0 atoms\n",
      "  6 MainChain+Cb        :     0 atoms\n",
      "  7 MainChain+H         :     0 atoms\n",
      "  8 SideChain           :   568 atoms\n",
      "  9 SideChain-H         :   568 atoms\n",
      " 10 Prot-Masses         :   568 atoms\n",
      " 11 non-Protein         : 21035 atoms\n",
      " 12 Other               : 20702 atoms\n",
      " 13 PIPC                :  5760 atoms\n",
      " 14 PIPE                :  1440 atoms\n",
      " 15 W                   : 13502 atoms\n",
      " 16 NA                  :   162 atoms\n",
      " 17 CL                  :   171 atoms\n",
      " 18 Ion                 :   333 atoms\n",
      " 19 PIPC                :  5760 atoms\n",
      " 20 PIPE                :  1440 atoms\n",
      " 21 W                   : 13502 atoms\n",
      " 22 NA                  :   162 atoms\n",
      " 23 CL                  :   171 atoms\n",
      "\n",
      " nr : group      '!': not  'name' nr name   'splitch' nr    Enter: list groups\n",
      " 'a': atom       '&': and  'del' nr         'splitres' nr   'l': list residues\n",
      " 't': atom type  '|': or   'keep' nr        'splitat' nr    'h': help\n",
      " 'r': residue              'res' nr         'chain' char\n",
      " \"name\": group             'case': case sensitive           'q': save and quit\n",
      " 'ri': residue index\n",
      "\n",
      "> \n",
      "Removed group 2 'Protein-H'\n",
      "Removed group 3 'C-alpha'\n",
      "Removed group 4 'Backbone'\n",
      "Removed group 5 'MainChain'\n",
      "Removed group 6 'MainChain+Cb'\n",
      "Removed group 7 'MainChain+H'\n",
      "Removed group 8 'SideChain'\n",
      "Removed group 9 'SideChain-H'\n",
      "Removed group 10 'Prot-Masses'\n",
      "Removed group 11 'non-Protein'\n",
      "Removed group 12 'Other'\n",
      "Removed group 13 'PIPC'\n",
      "Removed group 14 'PIPE'\n",
      "Removed group 15 'W'\n",
      "Removed group 16 'NA'\n",
      "Removed group 17 'CL'\n",
      "Removed group 18 'Ion'\n",
      "Removed group 19 'PIPC'\n",
      "Removed group 20 'PIPE'\n",
      "Removed group 21 'W'\n",
      "Removed group 22 'NA'\n",
      "Removed group 23 'CL'\n",
      "Removed group 0 'System'\n",
      "\n",
      "> \n"
     ]
    },
    {
     "name": "stderr",
     "output_type": "stream",
     "text": [
      "./index-TM1-TM2.sh: ligne 3: avertissement :« here-document » à la ligne 1 délimité par la fin du fichier (au lieu de « EOF »)\n",
      "                     :-) GROMACS - gmx make_ndx, 2021.5 (-:\n",
      "\n",
      "                            GROMACS is written by:\n",
      "     Andrey Alekseenko              Emile Apol              Rossen Apostolov     \n",
      "         Paul Bauer           Herman J.C. Berendsen           Par Bjelkmar       \n",
      "       Christian Blau           Viacheslav Bolnykh             Kevin Boyd        \n",
      "     Aldert van Buuren           Rudi van Drunen             Anton Feenstra      \n",
      "    Gilles Gouaillardet             Alan Gray               Gerrit Groenhof      \n",
      "       Anca Hamuraru            Vincent Hindriksen          M. Eric Irrgang      \n",
      "      Aleksei Iupinov           Christoph Junghans             Joe Jordan        \n",
      "    Dimitrios Karkoulis            Peter Kasson                Jiri Kraus        \n",
      "      Carsten Kutzner              Per Larsson              Justin A. Lemkul     \n",
      "       Viveca Lindahl            Magnus Lundborg             Erik Marklund       \n",
      "        Pascal Merz             Pieter Meulenhoff            Teemu Murtola       \n",
      "        Szilard Pall               Sander Pronk              Roland Schulz       \n",
      "       Michael Shirts            Alexey Shvetsov             Alfons Sijbers      \n",
      "       Peter Tieleman              Jon Vincent              Teemu Virolainen     \n",
      "     Christian Wennberg            Maarten Wolf              Artem Zhmurov       \n",
      "                           and the project leaders:\n",
      "        Mark Abraham, Berk Hess, Erik Lindahl, and David van der Spoel\n",
      "\n",
      "Copyright (c) 1991-2000, University of Groningen, The Netherlands.\n",
      "Copyright (c) 2001-2019, The GROMACS development team at\n",
      "Uppsala University, Stockholm University and\n",
      "the Royal Institute of Technology, Sweden.\n",
      "check out http://www.gromacs.org for more information.\n",
      "\n",
      "GROMACS is free software; you can redistribute it and/or modify it\n",
      "under the terms of the GNU Lesser General Public License\n",
      "as published by the Free Software Foundation; either version 2.1\n",
      "of the License, or (at your option) any later version.\n",
      "\n",
      "GROMACS:      gmx make_ndx, version 2021.5\n",
      "Executable:   /ibpc/lumo/sritharan/Téléchargements/Gromacs/gromacs-2021.5/build/bin/gmx\n",
      "Data prefix:  /ibpc/lumo/sritharan/Téléchargements/Gromacs/gromacs-2021.5 (source tree)\n",
      "Working dir:  /data/sritharan/Paris/Other_Project/Hanene/Water_Protein/AF/md/gromacs/M2/out_graph2\n",
      "Command line:\n",
      "  gmx make_ndx -f inverted_file.gro -o index-TM1-TM2.ndx\n",
      "\n",
      "\n",
      "Reading structure file\n",
      "\n",
      "GROMACS reminds you: \"Sisters Have Always Fascinated Me\" (Speech)\n",
      "\n"
     ]
    }
   ],
   "source": [
    "#creation d'un index pour chaque md\n",
    "for md in all_md:\n",
    "    os.chdir(path_md + md+ \"/out_graph2/\")\n",
    "    print(os.getcwd())\n",
    "    with open(\"index-TM1-TM2.sh\",\"w\") as file:  \n",
    "        file.write(\"/ibpc/lumo/sritharan/Téléchargements/Gromacs/gromacs-2021.5/build/bin/gmx make_ndx -f inverted_file.gro -o index-TM1-TM2.ndx <<EOF \\n keep 1 \\n q\")\n",
    "    file.close()\n",
    "    !chmod +x index-TM1-TM2.sh\n",
    "    os.system(\"./index-TM1-TM2.sh\")\n",
    "    !echo \"[TM1]\" >> index-TM1-TM2.ndx\n",
    "    !echo \"128 130 132 134 136 138 140 142 146 148 150 154 156 158 160 162 164 169 171 173 175 177 179 181 183 185 189 191 196 198 202 204 206 207 209 215\" >> index-TM1-TM2.ndx\n",
    "    !echo \"[TM2]\" >> index-TM1-TM2.ndx\n",
    "    !echo \"415 418 420 422 424 426 430 432 434 438 440 442 444 446 448 450 452 454 459 461 463 465 469 471 473 475 477 481 483 485 486 488 493 495 497 500\" >> index-TM1-TM2.ndx\n",
    "    !echo \"\" >> index-TM1-TM2.ndx"
   ]
  },
  {
   "cell_type": "code",
   "execution_count": 47,
   "id": "c13429da",
   "metadata": {},
   "outputs": [],
   "source": [
    "for md in all_md:\n",
    "    os.chdir(path_md + md+ \"/out_graph2/\")\n",
    "    !echo 1 | /ibpc/lumo/sritharan/Téléchargements/Gromacs/gromacs-2021.5/build/bin/gmx traj -f inverted_trajectory.xtc -s md.tpr -ox z_Tm1_lower_.xvg -n index-TM1-TM2.ndx -nox -noy -com > TM1_COM.log 2>&1\n",
    "    !echo 2 |/ibpc/lumo/sritharan/Téléchargements/Gromacs/gromacs-2021.5/build/bin/gmx traj -f inverted_trajectory.xtc -s md.tpr -ox z_Tm2_lower_.xvg -n index-TM1-TM2.ndx -nox -noy -com > TM2_COM.log 2>&1\n"
   ]
  },
  {
   "cell_type": "code",
   "execution_count": null,
   "id": "f96d2629",
   "metadata": {},
   "outputs": [],
   "source": []
  },
  {
   "cell_type": "code",
   "execution_count": null,
   "id": "72115abd",
   "metadata": {},
   "outputs": [],
   "source": []
  },
  {
   "cell_type": "markdown",
   "id": "91b67f19",
   "metadata": {},
   "source": [
    "# Graphique"
   ]
  },
  {
   "cell_type": "code",
   "execution_count": 48,
   "id": "06cc6956",
   "metadata": {},
   "outputs": [],
   "source": [
    "def open_file(file):\n",
    "    x = []\n",
    "    y = []\n",
    "    with open(file) as f:\n",
    "        for line in f:\n",
    "            if line.startswith(\"#\") or line.startswith(\"@\"):\n",
    "                pass\n",
    "            else:\n",
    "                cols = line.split()\n",
    "                if len(cols) == 2:\n",
    "                    x.append(float(cols[0]))\n",
    "                    y.append(float(cols[1]))\n",
    "    return x,y\n",
    "    \n",
    "def plot_z(z,folder,name):\n",
    "    from scipy.signal import savgol_filter\n",
    "    import statsmodels.api as sm\n",
    "    \n",
    "    x = []\n",
    "    y = []\n",
    "    a = []\n",
    "    b = []\n",
    "    c = []\n",
    "    d = []\n",
    "    x ,y= open_file(\"z_Tm2_lower_.xvg\")\n",
    "    a,b = open_file(\"z_Tm1_lower_.xvg\")\n",
    "    c,d = open_file(\"PO4_.xvg\")\n",
    "    \n",
    "    # mean membrane on Z axe\n",
    "    COM_z_PO4 = d\n",
    "    mean_PO4 = np.mean(COM_z_PO4)\n",
    "    \n",
    "    \n",
    "    #\n",
    "    \n",
    "    y2 = [y[i] - COM_z_PO4[i] for i in range(len(y))]\n",
    "    b2 = [b[i] - COM_z_PO4[i] for i in range(len(b))]\n",
    "    d2 = [d[i] - COM_z_PO4[i] for i in range(len(d))]\n",
    "\n",
    "    # conversion de temps diviser par 1000\n",
    "    myInt = 1000000\n",
    "    x = [time / myInt for time in x]\n",
    "    a = [time / myInt for time in a]\n",
    "    c = [time / myInt for time in c]\n",
    "    \n",
    "    \n",
    "    \n",
    "# Appliquer le lissage Loess avec une fenêtre de 0.1 et un degré de 2\n",
    "    TM2 = sm.nonparametric.lowess(y2, x ,frac=0.1, it=0, delta=0.0, is_sorted=True, missing='none', return_sorted=True)\n",
    "\n",
    "    TM1 = sm.nonparametric.lowess(b2, a ,frac=0.1, it=0, delta=0.0, is_sorted=True, missing='none', return_sorted=True)\n",
    "\n",
    "    PO4 = sm.nonparametric.lowess(d2, c ,frac=0.1, it=0, delta=0.0, is_sorted=True, missing='none', return_sorted=True)\n",
    "\n",
    "    \n",
    "\n",
    "    \n",
    "\n",
    "    fig = plt.figure()\n",
    "    ax1 = fig.add_subplot(111)\n",
    "    ax1.set_xlabel('Time (µs)')\n",
    "    ax1.set_ylabel('z (nm)')\n",
    "\n",
    "    plt.plot(TM1[:,0],TM1[:,1], c='orange', label='TM1')\n",
    "    plt.plot(TM2[:,0],TM2[:,1], c='purple', label='TM2')\n",
    "    plt.plot(PO4[:,0],PO4[:,1], c='darkblue', label='PO4')\n",
    "    \n",
    "    \n",
    "    plt.scatter(x, y2,alpha=0.05,c = 'purple',s = 8)\n",
    "    plt.scatter(a, b2,alpha=0.05,c = 'orange',s = 8)\n",
    "    plt.scatter(c, d2,alpha=0.05,c = 'darkblue',s = 8)\n",
    "\n",
    "    # Ajouter une ligne horizontale pour le centre de masse cible\n",
    "    #ax1.axhline(z)\n",
    "    plt.title(folder)\n",
    "    # Ajouter une légende\n",
    "    #leg = ax1.legend()\n",
    "\n",
    "    # Enregistrer et afficher le graphique\n",
    "    plt.savefig(\"Centre de masse \" + folder + name + '.png')\n",
    "    plt.show()\n",
    "\n"
   ]
  },
  {
   "cell_type": "markdown",
   "id": "217200d1",
   "metadata": {},
   "source": [
    "## Détermine les numero d'index des phosphate des lipides de la couche superieur"
   ]
  },
  {
   "cell_type": "code",
   "execution_count": 49,
   "id": "fc0ee5aa",
   "metadata": {},
   "outputs": [
    {
     "data": {
      "text/html": [
       "<div>\n",
       "<style scoped>\n",
       "    .dataframe tbody tr th:only-of-type {\n",
       "        vertical-align: middle;\n",
       "    }\n",
       "\n",
       "    .dataframe tbody tr th {\n",
       "        vertical-align: top;\n",
       "    }\n",
       "\n",
       "    .dataframe thead th {\n",
       "        text-align: right;\n",
       "    }\n",
       "</style>\n",
       "<table border=\"1\" class=\"dataframe\">\n",
       "  <thead>\n",
       "    <tr style=\"text-align: right;\">\n",
       "      <th></th>\n",
       "      <th>atoms_indexes</th>\n",
       "      <th>z(nm)</th>\n",
       "      <th>layer</th>\n",
       "    </tr>\n",
       "  </thead>\n",
       "  <tbody>\n",
       "    <tr>\n",
       "      <th>0</th>\n",
       "      <td>570</td>\n",
       "      <td>-8.321</td>\n",
       "      <td>lower</td>\n",
       "    </tr>\n",
       "    <tr>\n",
       "      <th>1</th>\n",
       "      <td>582</td>\n",
       "      <td>-8.088</td>\n",
       "      <td>lower</td>\n",
       "    </tr>\n",
       "    <tr>\n",
       "      <th>2</th>\n",
       "      <td>594</td>\n",
       "      <td>-8.316</td>\n",
       "      <td>lower</td>\n",
       "    </tr>\n",
       "    <tr>\n",
       "      <th>3</th>\n",
       "      <td>606</td>\n",
       "      <td>-8.247</td>\n",
       "      <td>lower</td>\n",
       "    </tr>\n",
       "    <tr>\n",
       "      <th>4</th>\n",
       "      <td>618</td>\n",
       "      <td>-8.150</td>\n",
       "      <td>lower</td>\n",
       "    </tr>\n",
       "    <tr>\n",
       "      <th>...</th>\n",
       "      <td>...</td>\n",
       "      <td>...</td>\n",
       "      <td>...</td>\n",
       "    </tr>\n",
       "    <tr>\n",
       "      <th>595</th>\n",
       "      <td>7710</td>\n",
       "      <td>-4.608</td>\n",
       "      <td>upper</td>\n",
       "    </tr>\n",
       "    <tr>\n",
       "      <th>596</th>\n",
       "      <td>7722</td>\n",
       "      <td>-4.517</td>\n",
       "      <td>upper</td>\n",
       "    </tr>\n",
       "    <tr>\n",
       "      <th>597</th>\n",
       "      <td>7734</td>\n",
       "      <td>-4.587</td>\n",
       "      <td>upper</td>\n",
       "    </tr>\n",
       "    <tr>\n",
       "      <th>598</th>\n",
       "      <td>7746</td>\n",
       "      <td>-4.486</td>\n",
       "      <td>upper</td>\n",
       "    </tr>\n",
       "    <tr>\n",
       "      <th>599</th>\n",
       "      <td>7758</td>\n",
       "      <td>-4.724</td>\n",
       "      <td>upper</td>\n",
       "    </tr>\n",
       "  </tbody>\n",
       "</table>\n",
       "<p>600 rows × 3 columns</p>\n",
       "</div>"
      ],
      "text/plain": [
       "     atoms_indexes  z(nm)  layer\n",
       "0              570 -8.321  lower\n",
       "1              582 -8.088  lower\n",
       "2              594 -8.316  lower\n",
       "3              606 -8.247  lower\n",
       "4              618 -8.150  lower\n",
       "..             ...    ...    ...\n",
       "595           7710 -4.608  upper\n",
       "596           7722 -4.517  upper\n",
       "597           7734 -4.587  upper\n",
       "598           7746 -4.486  upper\n",
       "599           7758 -4.724  upper\n",
       "\n",
       "[600 rows x 3 columns]"
      ]
     },
     "execution_count": 49,
     "metadata": {},
     "output_type": "execute_result"
    }
   ],
   "source": [
    "phosphate_data"
   ]
  },
  {
   "cell_type": "code",
   "execution_count": 51,
   "id": "4459d6ad",
   "metadata": {},
   "outputs": [
    {
     "name": "stdout",
     "output_type": "stream",
     "text": [
      "4170 4182 4194 4206 4218 4230 4242 4254 4266 4278 4290 4302 4314 4326 4338 4350 4362 4374 4386 4398 4410 4422 4434 4446 4458 4470 4482 4494 4506 4518 4530 4542 4554 4566 4578 4590 4602 4614 4626 4638 4650 4662 4674 4686 4698 4710 4722 4734 4746 4758 4770 4782 4794 4806 4818 4830 4842 4854 4866 4878 4890 4902 4914 4926 4938 4950 4962 4974 4986 4998 5010 5022 5034 5046 5058 5070 5082 5094 5106 5118 5130 5142 5154 5166 5178 5190 5202 5214 5226 5238 5250 5262 5274 5286 5298 5310 5322 5334 5346 5358 5370 5382 5394 5406 5418 5430 5442 5454 5466 5478 5490 5502 5514 5526 5538 5550 5562 5574 5586 5598 5610 5622 5634 5646 5658 5670 5682 5694 5706 5718 5730 5742 5754 5766 5778 5790 5802 5814 5826 5838 5850 5862 5874 5886 5898 5910 5922 5934 5946 5958 5970 5982 5994 6006 6018 6030 6042 6054 6066 6078 6090 6102 6114 6126 6138 6150 6162 6174 6186 6198 6210 6222 6234 6246 6258 6270 6282 6294 6306 6318 6330 6342 6354 6366 6378 6390 6402 6414 6426 6438 6450 6462 6474 6486 6498 6510 6522 6534 6546 6558 6570 6582 6594 6606 6618 6630 6642 6654 6666 6678 6690 6702 6714 6726 6738 6750 6762 6774 6786 6798 6810 6822 6834 6846 6858 6870 6882 6894 6906 6918 6930 6942 6954 6966 6978 6990 7002 7014 7026 7038 7050 7062 7074 7086 7098 7110 7122 7134 7146 7158 7170 7182 7194 7206 7218 7230 7242 7254 7266 7278 7290 7302 7314 7326 7338 7350 7362 7374 7386 7398 7410 7422 7434 7446 7458 7470 7482 7494 7506 7518 7530 7542 7554 7566 7578 7590 7602 7614 7626 7638 7650 7662 7674 7686 7698 7710 7722 7734 7746 7758\n"
     ]
    }
   ],
   "source": [
    "phosphate_data[300:]\n",
    "upper_po4_index =  phosphate_data[300:]['atoms_indexes'].tolist()\n",
    "print(' '.join(map(str, upper_po4_index)))"
   ]
  },
  {
   "cell_type": "code",
   "execution_count": 55,
   "id": "1d05acd8",
   "metadata": {},
   "outputs": [
    {
     "name": "stdout",
     "output_type": "stream",
     "text": [
      "Going to read 0 old index file(s)\n",
      "Analysing residue names:\n",
      "There are:   227    Protein residues\n",
      "There are: 10950      Other residues\n",
      "There are:   333        Ion residues\n",
      "Analysing Protein...\n",
      "Analysing residues not classified as Protein/DNA/RNA/Water and splitting into groups...\n",
      "Analysing residues not classified as Protein/DNA/RNA/Water and splitting into groups...\n",
      "\n",
      "  0 System              : 21603 atoms\n",
      "  1 Protein             :   568 atoms\n",
      "  2 Protein-H           :   568 atoms\n",
      "  3 C-alpha             :     0 atoms\n",
      "  4 Backbone            :     0 atoms\n",
      "  5 MainChain           :     0 atoms\n",
      "  6 MainChain+Cb        :     0 atoms\n",
      "  7 MainChain+H         :     0 atoms\n",
      "  8 SideChain           :   568 atoms\n",
      "  9 SideChain-H         :   568 atoms\n",
      " 10 Prot-Masses         :   568 atoms\n",
      " 11 non-Protein         : 21035 atoms\n",
      " 12 Other               : 20702 atoms\n",
      " 13 PIPC                :  5760 atoms\n",
      " 14 PIPE                :  1440 atoms\n",
      " 15 W                   : 13502 atoms\n",
      " 16 NA                  :   162 atoms\n",
      " 17 CL                  :   171 atoms\n",
      " 18 Ion                 :   333 atoms\n",
      " 19 PIPC                :  5760 atoms\n",
      " 20 PIPE                :  1440 atoms\n",
      " 21 W                   : 13502 atoms\n",
      " 22 NA                  :   162 atoms\n",
      " 23 CL                  :   171 atoms\n",
      "\n",
      " nr : group      '!': not  'name' nr name   'splitch' nr    Enter: list groups\n",
      " 'a': atom       '&': and  'del' nr         'splitres' nr   'l': list residues\n",
      " 't': atom type  '|': or   'keep' nr        'splitat' nr    'h': help\n",
      " 'r': residue              'res' nr         'chain' char\n",
      " \"name\": group             'case': case sensitive           'q': save and quit\n",
      " 'ri': residue index\n",
      "\n",
      "> \n",
      "Removed group 2 'Protein-H'\n",
      "Removed group 3 'C-alpha'\n",
      "Removed group 4 'Backbone'\n",
      "Removed group 5 'MainChain'\n",
      "Removed group 6 'MainChain+Cb'\n",
      "Removed group 7 'MainChain+H'\n",
      "Removed group 8 'SideChain'\n",
      "Removed group 9 'SideChain-H'\n",
      "Removed group 10 'Prot-Masses'\n",
      "Removed group 11 'non-Protein'\n",
      "Removed group 12 'Other'\n",
      "Removed group 13 'PIPC'\n",
      "Removed group 14 'PIPE'\n",
      "Removed group 15 'W'\n",
      "Removed group 16 'NA'\n",
      "Removed group 17 'CL'\n",
      "Removed group 18 'Ion'\n",
      "Removed group 19 'PIPC'\n",
      "Removed group 20 'PIPE'\n",
      "Removed group 21 'W'\n",
      "Removed group 22 'NA'\n",
      "Removed group 23 'CL'\n",
      "Removed group 0 'System'\n",
      "\n",
      "> \n"
     ]
    },
    {
     "name": "stderr",
     "output_type": "stream",
     "text": [
      "./index-PO4.sh: ligne 3: avertissement :« here-document » à la ligne 1 délimité par la fin du fichier (au lieu de « EOF »)\n",
      "                     :-) GROMACS - gmx make_ndx, 2021.5 (-:\n",
      "\n",
      "                            GROMACS is written by:\n",
      "     Andrey Alekseenko              Emile Apol              Rossen Apostolov     \n",
      "         Paul Bauer           Herman J.C. Berendsen           Par Bjelkmar       \n",
      "       Christian Blau           Viacheslav Bolnykh             Kevin Boyd        \n",
      "     Aldert van Buuren           Rudi van Drunen             Anton Feenstra      \n",
      "    Gilles Gouaillardet             Alan Gray               Gerrit Groenhof      \n",
      "       Anca Hamuraru            Vincent Hindriksen          M. Eric Irrgang      \n",
      "      Aleksei Iupinov           Christoph Junghans             Joe Jordan        \n",
      "    Dimitrios Karkoulis            Peter Kasson                Jiri Kraus        \n",
      "      Carsten Kutzner              Per Larsson              Justin A. Lemkul     \n",
      "       Viveca Lindahl            Magnus Lundborg             Erik Marklund       \n",
      "        Pascal Merz             Pieter Meulenhoff            Teemu Murtola       \n",
      "        Szilard Pall               Sander Pronk              Roland Schulz       \n",
      "       Michael Shirts            Alexey Shvetsov             Alfons Sijbers      \n",
      "       Peter Tieleman              Jon Vincent              Teemu Virolainen     \n",
      "     Christian Wennberg            Maarten Wolf              Artem Zhmurov       \n",
      "                           and the project leaders:\n",
      "        Mark Abraham, Berk Hess, Erik Lindahl, and David van der Spoel\n",
      "\n",
      "Copyright (c) 1991-2000, University of Groningen, The Netherlands.\n",
      "Copyright (c) 2001-2019, The GROMACS development team at\n",
      "Uppsala University, Stockholm University and\n",
      "the Royal Institute of Technology, Sweden.\n",
      "check out http://www.gromacs.org for more information.\n",
      "\n",
      "GROMACS is free software; you can redistribute it and/or modify it\n",
      "under the terms of the GNU Lesser General Public License\n",
      "as published by the Free Software Foundation; either version 2.1\n",
      "of the License, or (at your option) any later version.\n",
      "\n",
      "GROMACS:      gmx make_ndx, version 2021.5\n",
      "Executable:   /ibpc/lumo/sritharan/Téléchargements/Gromacs/gromacs-2021.5/build/bin/gmx\n",
      "Data prefix:  /ibpc/lumo/sritharan/Téléchargements/Gromacs/gromacs-2021.5 (source tree)\n",
      "Working dir:  /data/sritharan/Paris/Other_Project/Hanene/Water_Protein/AF/md/gromacs/M2/out_graph2\n",
      "Command line:\n",
      "  gmx make_ndx -f inverted_file.gro -o index-PO4.ndx\n",
      "\n",
      "\n",
      "Reading structure file\n",
      "\n",
      "GROMACS reminds you: \"Space May Be the Final Frontier, But It's Made in a Hollywood Basement\" (Red Hot Chili Peppers)\n",
      "\n"
     ]
    }
   ],
   "source": [
    "for md in all_md:\n",
    "    os.chdir(path_md + md+ \"/out_graph2/\")\n",
    "    with open(\"index-PO4.sh\",\"w\") as file:  \n",
    "        file.write(\"/ibpc/lumo/sritharan/Téléchargements/Gromacs/gromacs-2021.5/build/bin/gmx make_ndx -f inverted_file.gro -o index-PO4.ndx <<EOF \\n keep 1 \\n q\")\n",
    "    file.close()\n",
    "    !chmod +x index-PO4.sh\n",
    "    os.system(\"./index-PO4.sh\")\n",
    "    !echo \"[PO4]\" >> index-PO4.ndx\n",
    "    !echo \"4170 4182 4194 4206 4218 4230 4242 4254 4266 4278 4290 4302 4314 4326 4338 4350 4362 4374 4386 4398 4410 4422 4434 4446 4458 4470 4482 4494 4506 4518 4530 4542 4554 4566 4578 4590 4602 4614 4626 4638 4650 4662 4674 4686 4698 4710 4722 4734 4746 4758 4770 4782 4794 4806 4818 4830 4842 4854 4866 4878 4890 4902 4914 4926 4938 4950 4962 4974 4986 4998 5010 5022 5034 5046 5058 5070 5082 5094 5106 5118 5130 5142 5154 5166 5178 5190 5202 5214 5226 5238 5250 5262 5274 5286 5298 5310 5322 5334 5346 5358 5370 5382 5394 5406 5418 5430 5442 5454 5466 5478 5490 5502 5514 5526 5538 5550 5562 5574 5586 5598 5610 5622 5634 5646 5658 5670 5682 5694 5706 5718 5730 5742 5754 5766 5778 5790 5802 5814 5826 5838 5850 5862 5874 5886 5898 5910 5922 5934 5946 5958 5970 5982 5994 6006 6018 6030 6042 6054 6066 6078 6090 6102 6114 6126 6138 6150 6162 6174 6186 6198 6210 6222 6234 6246 6258 6270 6282 6294 6306 6318 6330 6342 6354 6366 6378 6390 6402 6414 6426 6438 6450 6462 6474 6486 6498 6510 6522 6534 6546 6558 6570 6582 6594 6606 6618 6630 6642 6654 6666 6678 6690 6702 6714 6726 6738 6750 6762 6774 6786 6798 6810 6822 6834 6846 6858 6870 6882 6894 6906 6918 6930 6942 6954 6966 6978 6990 7002 7014 7026 7038 7050 7062 7074 7086 7098 7110 7122 7134 7146 7158 7170 7182 7194 7206 7218 7230 7242 7254 7266 7278 7290 7302 7314 7326 7338 7350 7362 7374 7386 7398 7410 7422 7434 7446 7458 7470 7482 7494 7506 7518 7530 7542 7554 7566 7578 7590 7602 7614 7626 7638 7650 7662 7674 7686 7698 7710 7722 7734 7746 7758\" >> index-PO4.ndx\n",
    "    !echo \"\" >> index-PO4.ndx"
   ]
  },
  {
   "cell_type": "code",
   "execution_count": 56,
   "id": "ed2606c4",
   "metadata": {},
   "outputs": [],
   "source": [
    "for md in all_md:\n",
    "    os.chdir(path_md + md+ \"/out_graph2/\")\n",
    "    !echo 1 | /ibpc/lumo/sritharan/Téléchargements/Gromacs/gromacs-2021.5/build/bin/gmx traj -f inverted_trajectory.xtc -s md.tpr -ox PO4_.xvg -n index-PO4.ndx -nox -noy -com  > PO4_COM.log 2>&1 \n"
   ]
  },
  {
   "cell_type": "code",
   "execution_count": 141,
   "id": "82f4d0dc",
   "metadata": {},
   "outputs": [],
   "source": [
    "## Graphique commande"
   ]
  },
  {
   "cell_type": "code",
   "execution_count": 57,
   "id": "d49a6e9b",
   "metadata": {},
   "outputs": [
    {
     "name": "stdout",
     "output_type": "stream",
     "text": [
      "M2\n"
     ]
    },
    {
     "data": {
      "image/png": "[encoded data removed]",
      "text/plain": [
       "<Figure size 640x480 with 1 Axes>"
      ]
     },
     "metadata": {},
     "output_type": "display_data"
    }
   ],
   "source": [
    "for md in all_md:\n",
    "    os.chdir(path_md + md+ \"/out_graph2/\")\n",
    "    print(md)\n",
    "    plot_z(mean_z,md,name)\n"
   ]
  },
  {
   "cell_type": "code",
   "execution_count": 208,
   "id": "4e41f197",
   "metadata": {},
   "outputs": [
    {
     "name": "stdout",
     "output_type": "stream",
     "text": [
      "ls: impossible d'accéder à '#*#': Aucun fichier ou dossier de ce type\r\n"
     ]
    }
   ],
   "source": [
    "for md in all_md:\n",
    "    os.chdir(path_md+md)\n",
    "    !ls \\#*\\#\n",
    "    !rm -f \\#*\\#  \n",
    "    #Utiliser cette commande avec précaution , seulement si vous repere des fichier #..#"
   ]
  },
  {
   "cell_type": "code",
   "execution_count": 126,
   "id": "44464993",
   "metadata": {},
   "outputs": [],
   "source": [
    "## Attention le path de resultat en fonction de dossier "
   ]
  },
  {
   "cell_type": "code",
   "execution_count": 127,
   "id": "86ecaeb9",
   "metadata": {},
   "outputs": [
    {
     "name": "stdout",
     "output_type": "stream",
     "text": [
      "'Centre de masse M10ESM-P1.png'  'Centre de masse M4ESM-P1.png'\r\n",
      "'Centre de masse M10ESM-P2.png'  'Centre de masse M4ESM-P2.png'\r\n",
      "'Centre de masse M10ESM-P3.png'  'Centre de masse M4ESM-P3.png'\r\n",
      "'Centre de masse M10TR-P3.png'\t 'Centre de masse M4TR-P3.png'\r\n",
      "'Centre de masse M11ESM-P3.png'  'Centre de masse M5ESM-P1.png'\r\n",
      "'Centre de masse M11TR-P3.png'\t 'Centre de masse M5ESM-P2.png'\r\n",
      "'Centre de masse M12ESM-P3.png'  'Centre de masse M6ESM-P1.png'\r\n",
      "'Centre de masse M12TR-P3.png'\t 'Centre de masse M6ESM-P2.png'\r\n",
      "'Centre de masse M1ESM-P1.png'\t 'Centre de masse M7ESM-P1.png'\r\n",
      "'Centre de masse M1ESM-P2.png'\t 'Centre de masse M7ESM-P2.png'\r\n",
      "'Centre de masse M1ESM-P3.png'\t 'Centre de masse M8ESM-P1.png'\r\n",
      "'Centre de masse M1TR-P3.png'\t 'Centre de masse M8ESM-P2.png'\r\n",
      "'Centre de masse M2ESM-P1.png'\t 'Centre de masse M9ESM-P1.png'\r\n",
      "'Centre de masse M2ESM-P2.png'\t 'Centre de masse M9ESM-P2.png'\r\n",
      "'Centre de masse M3ESM-P1.png'\t 'Centre de masse M9ESM-P3.png'\r\n",
      "'Centre de masse M3ESM-P2.png'\t 'Centre de masse M9TR-P3.png'\r\n"
     ]
    }
   ],
   "source": [
    "resultat = \"/data/sritharan/Paris/Analyses_models/OUT-TM/ESM/\" \n",
    "os.chdir(resultat)\n",
    "#os.makedirs(\"out_TM\",exist_ok=True)\n",
    "!ls"
   ]
  },
  {
   "cell_type": "code",
   "execution_count": 128,
   "id": "4002aabd",
   "metadata": {},
   "outputs": [
    {
     "data": {
      "text/plain": [
       "['M12', 'M8', 'M6', 'M11']"
      ]
     },
     "execution_count": 128,
     "metadata": {},
     "output_type": "execute_result"
    }
   ],
   "source": [
    "os.chdir(path_md)\n",
    "all_md = os.listdir()\n",
    "all_md\n"
   ]
  },
  {
   "cell_type": "code",
   "execution_count": 129,
   "id": "f0fdb1e6",
   "metadata": {},
   "outputs": [],
   "source": [
    "# transfert des plot dans le dossier resultat\n",
    "for md in all_md:\n",
    "    os.chdir(path_md+md+\"/out_graph2\")\n",
    "    !cp \"Centre de masse \"$md$name\".png\" $resultat"
   ]
  },
  {
   "cell_type": "code",
   "execution_count": 62,
   "id": "0f512b6e",
   "metadata": {},
   "outputs": [
    {
     "name": "stdout",
     "output_type": "stream",
     "text": [
      "'Centre de masse M10ESM-P1.png'  'Centre de masse M4ESM-P2.png'\r\n",
      "'Centre de masse M10ESM-P2.png'  'Centre de masse M4TR-P3.png'\r\n",
      "'Centre de masse M10TR-P3.png'\t 'Centre de masse M5ESM-P1.png'\r\n",
      "'Centre de masse M11TR-P3.png'\t 'Centre de masse M5ESM-P2.png'\r\n",
      "'Centre de masse M12TR-P3.png'\t 'Centre de masse M6ESM-P1.png'\r\n",
      "'Centre de masse M1ESM-P1.png'\t 'Centre de masse M6ESM-P2.png'\r\n",
      "'Centre de masse M1ESM-P2.png'\t 'Centre de masse M7ESM-P1.png'\r\n",
      "'Centre de masse M1TR-P3.png'\t 'Centre de masse M7ESM-P2.png'\r\n",
      "'Centre de masse M2ESM-P1.png'\t 'Centre de masse M8ESM-P1.png'\r\n",
      "'Centre de masse M2ESM-P2.png'\t 'Centre de masse M8ESM-P2.png'\r\n",
      "'Centre de masse M3ESM-P1.png'\t 'Centre de masse M9ESM-P1.png'\r\n",
      "'Centre de masse M3ESM-P2.png'\t 'Centre de masse M9ESM-P2.png'\r\n",
      "'Centre de masse M4ESM-P1.png'\t 'Centre de masse M9TR-P3.png'\r\n"
     ]
    }
   ],
   "source": [
    "# verification des fichiers\n",
    "os.chdir(resultat)\n",
    "!ls\n"
   ]
  },
  {
   "cell_type": "code",
   "execution_count": null,
   "id": "ae74b9f9",
   "metadata": {},
   "outputs": [],
   "source": []
  }
 ],
 "metadata": {
  "kernelspec": {
   "display_name": "Python 3 (ipykernel)",
   "language": "python",
   "name": "python3"
  },
  "language_info": {
   "codemirror_mode": {
    "name": "ipython",
    "version": 3
   },
   "file_extension": ".py",
   "mimetype": "text/x-python",
   "name": "python",
   "nbconvert_exporter": "python",
   "pygments_lexer": "ipython3",
   "version": "3.9.16"
  }
 },
 "nbformat": 4,
 "nbformat_minor": 5
}
